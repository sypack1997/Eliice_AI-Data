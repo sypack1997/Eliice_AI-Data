{
 "cells": [
  {
   "cell_type": "markdown",
   "metadata": {},
   "source": [
    "1. 데이터 읽기 - 데이터 읽고 dataframe형태로 저장"
   ]
  },
  {
   "cell_type": "code",
   "execution_count": null,
   "metadata": {},
   "outputs": [],
   "source": [
    "import numpy as np\n",
    "import pandas as pd\n",
    "import matplotlib.pyplot as plt\n",
    "import seaborn as sns"
   ]
  },
  {
   "cell_type": "code",
   "execution_count": null,
   "metadata": {},
   "outputs": [],
   "source": [
    "# dataframe형태로 불러오기\n",
    "data = pd.read_csv('data/uci-secom.csv')"
   ]
  },
  {
   "cell_type": "code",
   "execution_count": null,
   "metadata": {},
   "outputs": [],
   "source": [
    "data.head()"
   ]
  },
  {
   "cell_type": "code",
   "execution_count": null,
   "metadata": {},
   "outputs": [],
   "source": [
    "data.info()\n",
    "data.shape"
   ]
  },
  {
   "cell_type": "code",
   "execution_count": null,
   "metadata": {},
   "outputs": [],
   "source": [
    "# 수치형 변수의 데이터 정보를 요약하여 출력\n",
    "data.describe()"
   ]
  },
  {
   "cell_type": "markdown",
   "metadata": {},
   "source": [
    "2. 데이터 정제 - 결측값 및 이상치 처리"
   ]
  },
  {
   "cell_type": "code",
   "execution_count": null,
   "metadata": {},
   "outputs": [],
   "source": [
    "# isnull()은 결측값이 있는지 True, False로 반환\n",
    "data.isnull().sum()"
   ]
  },
  {
   "cell_type": "code",
   "execution_count": null,
   "metadata": {},
   "outputs": [],
   "source": [
    "data = data.replace(np.NaN, 0)\n",
    "data.isnull().sum()"
   ]
  },
  {
   "cell_type": "code",
   "execution_count": null,
   "metadata": {},
   "outputs": [],
   "source": [
    "# axis = 0은 행방향 동작\n",
    "data = data.drop(columns = ['Time'], axis = 1)\n",
    "data.shape"
   ]
  },
  {
   "cell_type": "code",
   "execution_count": null,
   "metadata": {},
   "outputs": [],
   "source": [
    "data"
   ]
  },
  {
   "cell_type": "markdown",
   "metadata": {},
   "source": [
    "3. 데이터 시각화"
   ]
  },
  {
   "cell_type": "markdown",
   "metadata": {},
   "source": [
    "3.1 Pass/Fail 시각화"
   ]
  },
  {
   "cell_type": "code",
   "execution_count": null,
   "metadata": {},
   "outputs": [],
   "source": [
    "# 막대그래프 / value_counts() : 합계\n",
    "data['Pass/Fail'].value_counts().plot(kind='bar')\n",
    "# 도수분포표\n",
    "data['Pass/Fail'].value_counts()"
   ]
  },
  {
   "cell_type": "markdown",
   "metadata": {},
   "source": [
    "3.2 센서 데이터 시각화 하기"
   ]
  },
  {
   "cell_type": "code",
   "execution_count": null,
   "metadata": {},
   "outputs": [],
   "source": [
    "# seaborn : 다수의 feature 데이터를 한눈에 보는 라이브러리\n",
    "# pairplot() : 컬럼끼리 비교\n",
    "data_test = data[['3', '4', '5', 'Pass/Fail']]\n",
    "data_test"
   ]
  },
  {
   "cell_type": "code",
   "execution_count": null,
   "metadata": {},
   "outputs": [],
   "source": [
    "sns.pairplot(data_test)"
   ]
  },
  {
   "cell_type": "code",
   "execution_count": null,
   "metadata": {},
   "outputs": [],
   "source": [
    "# vars : 특정한 컬럼끼리 비교\n",
    "sns.pairplot(data_test, height = 5, vars = ['3', '4'])"
   ]
  },
  {
   "cell_type": "markdown",
   "metadata": {},
   "source": [
    "3.3 59번 센서 시각화"
   ]
  },
  {
   "cell_type": "code",
   "execution_count": null,
   "metadata": {},
   "outputs": [],
   "source": [
    "# subplots : 한 번에 여러 그래프를 보여준다\n",
    "# ax : 각각의 그래프\n",
    "# fig(가로, 세로) : 크기\n",
    "fig, ax = plt.subplots(figsize = (8,6))\n",
    "sns.set(style = 'darkgrid')\n",
    "sns.distplot(data['59'], color = 'darkblue')\n",
    "plt.title('59 Sensor Measurements', fontsize = 20)"
   ]
  },
  {
   "cell_type": "code",
   "execution_count": null,
   "metadata": {},
   "outputs": [],
   "source": [
    "plt.rcParams['figure.figsize'] = (10, 16)\n",
    "# subplots(행, 열, 인덱스)\n",
    "plt.subplot(3, 1, 1)\n",
    "sns.distplot(data['59'], color = 'darkblue')\n",
    "plt.title('59 Sensor Measurements', fontsize = 20)\n",
    "\n",
    "plt.subplot(3, 1, 2)\n",
    "sns.distplot(data[data['Pass/Fail']==1]['59'], color = 'darkgreen')\n",
    "plt.title('59 Sensor Measurements', fontsize = 20)\n",
    "\n",
    "plt.subplot(3, 1, 3)\n",
    "sns.distplot(data[data['Pass/Fail']==-1]['59'], color = 'red')\n",
    "plt.title('59 Sensor Measurements', fontsize = 20)"
   ]
  },
  {
   "cell_type": "code",
   "execution_count": null,
   "metadata": {},
   "outputs": [],
   "source": [
    "plt.rcParams['figure.figsize'] = (15, 10)\n",
    "# 나누었던 그래프 한번에 출력\n",
    "sns.distplot(data['59'], color = 'darkblue')\n",
    "sns.distplot(data[data['Pass/Fail']==1]['59'], color = 'darkgreen')\n",
    "sns.distplot(data[data['Pass/Fail']==-1]['59'], color = 'red')\n",
    "\n",
    "plt.title('59 Sensor Measurements', fontsize = 20)"
   ]
  },
  {
   "cell_type": "markdown",
   "metadata": {},
   "source": [
    "4. 데이터 전 처리\n",
    " - 전체 데이터를 feature 데이터인 x 와 label 데이터인 y로 분리\n",
    " - StandardScaler를 통한 데이터 표준화"
   ]
  },
  {
   "cell_type": "markdown",
   "metadata": {},
   "source": [
    "4.1 x와 y로 분리"
   ]
  },
  {
   "cell_type": "code",
   "execution_count": null,
   "metadata": {},
   "outputs": [],
   "source": [
    "x = data.drop(columns = ['Pass/Fail'], axis = 1)\n",
    "y = data['Pass/Fail']\n",
    "# ravel : 다차원을 1차원으로 풀기\n",
    "y = y.to_numpy().ravel() \n",
    "y"
   ]
  },
  {
   "cell_type": "code",
   "execution_count": null,
   "metadata": {},
   "outputs": [],
   "source": [
    "type(y)"
   ]
  },
  {
   "cell_type": "code",
   "execution_count": null,
   "metadata": {},
   "outputs": [],
   "source": [
    "data_test = pd.read_csv(\"data/uci-secom-test.csv\")\n",
    "x_test = data_test.drop(columns = ['Pass/Fail'], axis = 1)\n",
    "y_test = data_test['Pass/Fail'].to_numpy().ravel() "
   ]
  },
  {
   "cell_type": "code",
   "execution_count": null,
   "metadata": {},
   "outputs": [],
   "source": [
    "x_test"
   ]
  },
  {
   "cell_type": "markdown",
   "metadata": {},
   "source": [
    "4.2 데이터 표준화 \n",
    "- 각 변수 마다의 스케일 차이를 맞추기 위하여 표준화를 수행\n",
    "- 데이터의 피처 각각이 평균이 0, 분산이 1인 가우시안 정규분포 형태"
   ]
  },
  {
   "cell_type": "code",
   "execution_count": null,
   "metadata": {},
   "outputs": [],
   "source": [
    "from sklearn.preprocessing import StandardScaler\n",
    "sc = StandardScaler()\n",
    "x_train = sc.fit_transform(x)\n",
    "x_test = sc.transform(x_test)\n",
    "y_train = y"
   ]
  },
  {
   "cell_type": "code",
   "execution_count": null,
   "metadata": {},
   "outputs": [],
   "source": [
    "x_train_sc = pd.DataFrame(data=x_train)\n",
    "print(\"평균\")\n",
    "print(x_train_sc.mean())\n",
    "print(\"분산\")\n",
    "print(x_train_sc.var())"
   ]
  },
  {
   "cell_type": "code",
   "execution_count": null,
   "metadata": {},
   "outputs": [],
   "source": [
    "x_train_sc"
   ]
  },
  {
   "cell_type": "markdown",
   "metadata": {},
   "source": [
    "5. 머신러닝 모델 학습 - score를 통해 accuracy 출력"
   ]
  },
  {
   "cell_type": "markdown",
   "metadata": {},
   "source": [
    "로지스틱 회귀\n",
    " - 선형 회귀 방식을 분류에 적용한 알고리즘\n",
    " - 시그모이드 함수 최적선을 찾고 반환 값을 확률로 간주해 확률에 따라 분류\n",
    " - 0과 1로 분류"
   ]
  },
  {
   "cell_type": "markdown",
   "metadata": {},
   "source": [
    "5.1 기본 분류 모델 학습 - 로지스틱 분류기"
   ]
  },
  {
   "cell_type": "code",
   "execution_count": null,
   "metadata": {},
   "outputs": [],
   "source": [
    "from sklearn.linear_model import LogisticRegression\n",
    "# max_iter : 반복횟수를 정하는 파라미터\n",
    "model = LogisticRegression(max_iter = 5000)\n",
    "model.fit(x_train, y_train)\n",
    "print(model.score(x_train, y_train))\n",
    "print(model.score(x_test, y_test))"
   ]
  },
  {
   "cell_type": "code",
   "execution_count": null,
   "metadata": {},
   "outputs": [],
   "source": [
    "# 중요도 계산 / 가중치 값들의 크기로 판단하기에 .coef로 해당 값들을 불러온다\n",
    "abs_coef = np.abs(model.coef_).ravel()\n",
    "abs_coef"
   ]
  },
  {
   "cell_type": "code",
   "execution_count": null,
   "metadata": {},
   "outputs": [],
   "source": [
    "#상위 20개 출력\n",
    "LR_import_x = [str(i[0]) for i in sorted(enumerate(abs_coef), key=lambda x:x[1], reverse=True)]\n",
    "\n",
    "plt.bar(LR_import_x[:20], sorted(abs_coef, reverse=True)[:20])\n",
    "\n",
    "plt.rcParams['figure.figsize'] = (15, 10)\n",
    "plt.xlabel('Features')\n",
    "plt.ylabel('Weight absolute values')\n",
    "plt.show()"
   ]
  },
  {
   "cell_type": "markdown",
   "metadata": {},
   "source": [
    "5.2 다양한 분류 모델 학습"
   ]
  },
  {
   "cell_type": "code",
   "execution_count": null,
   "metadata": {},
   "outputs": [],
   "source": [
    "# 분류 모델 중 XGB모델 있으니 참조\n",
    "\n",
    "from sklearn.discriminant_analysis import LinearDiscriminantAnalysis\n",
    "from sklearn.neighbors import KNeighborsClassifier\n",
    "from sklearn.tree import DecisionTreeClassifier\n",
    "from sklearn.naive_bayes import GaussianNB\n",
    "from sklearn.ensemble import RandomForestClassifier\n",
    "from sklearn.svm import SVC\n",
    "import xgboost as xgb\n",
    "\n",
    "\n",
    "#여러 모델을 append해서 추가합니다. \n",
    "models = []\n",
    "models.append(('LDA', LinearDiscriminantAnalysis()))  # LDA 모델\n",
    "models.append(('KNN', KNeighborsClassifier()))  # KNN 모델\n",
    "models.append(('CART', DecisionTreeClassifier()))  # 의사결정트리 모델\n",
    "models.append(('NB', GaussianNB()))  # 가우시안 나이브 베이즈 모델\n",
    "models.append(('RF', RandomForestClassifier()))  # 랜덤포레스트 모델\n",
    "models.append(('SVM', SVC(gamma='auto')))  # SVM 모델\n",
    "\n",
    "for name, model in models:\n",
    "    # fit으로 학습을 합니다. \n",
    "    model.fit(x_train, y_train)\n",
    "    \n",
    "    # score 함수를 사용하여 모델의 성능을 확인합니다.\n",
    "    msg = \"%s - train_score : %f, test score : %f\" % (name, model.score(x_train, y_train), model.score(x_test, y_test))\n",
    "    print(msg)"
   ]
  },
  {
   "cell_type": "markdown",
   "metadata": {},
   "source": [
    "6. 평가 및 예측\n",
    " - recall : 예측한 이상 있음 대비 실제 이상 있음의 비율 (accuracy에서 놓칠 수 있는 결과 해석 보충)\n",
    "  - 정밀도(Precision)\n",
    "   - 재현율 (recall)"
   ]
  },
  {
   "cell_type": "markdown",
   "metadata": {},
   "source": [
    "6.1 Condusion Matrix"
   ]
  },
  {
   "cell_type": "code",
   "execution_count": null,
   "metadata": {},
   "outputs": [],
   "source": [
    "from sklearn.metrics import confusion_matrix\n",
    "import seaborn as sns \n",
    "\n",
    "# LinearDiscriminantAnalysis 모델의 confusion matrix를 사용하기 위하여 학습용 데이터의 예측값을 저장합니다.\n",
    "# models[0]는 LDA\n",
    "model_predition_train = models[0][1].predict(x_train)\n",
    "\n",
    "cm_train = confusion_matrix(y_train, model_predition_train)\n",
    "\n",
    "plt.rcParams['figure.figsize'] = (5, 5)\n",
    "sns.set(style = 'dark', font_scale = 1.4)\n",
    "\n",
    "# annot은 annotate each cell with numeric value로 셀에 숫자값을 표시하는지 정하는 것입니다. \n",
    "# cmap으로 색깔을 지정할 수 있습니다. cmap='RdYlGn_r' cmap=\"YlGnBu\"\n",
    "ax = sns.heatmap(cm_train, annot=True)\n",
    "plt.xlabel('Prediction')\n",
    "plt.ylabel('Real Data')\n",
    "ax.set_xticklabels((-1,1))\n",
    "ax.set_yticklabels((-1,1))\n",
    "plt.show()\n",
    "cm_train"
   ]
  },
  {
   "cell_type": "markdown",
   "metadata": {},
   "source": [
    "6.2 Precision & Recall"
   ]
  },
  {
   "cell_type": "code",
   "execution_count": null,
   "metadata": {},
   "outputs": [],
   "source": [
    "from sklearn.metrics import recall_score\n",
    "from sklearn.metrics import precision_score\n",
    "\n",
    "print(\"Recall score: {}\".format(recall_score(y_test, models[0][1].predict(x_test))))\n",
    "print(\"Precision score: {}\".format(precision_score(y_test, models[0][1].predict(x_test))))"
   ]
  },
  {
   "cell_type": "markdown",
   "metadata": {},
   "source": [
    "6.3 테스트 데이터의 예측값 출력"
   ]
  },
  {
   "cell_type": "code",
   "execution_count": null,
   "metadata": {},
   "outputs": [],
   "source": [
    "for i in range(10): \n",
    "    \n",
    "    # LDA 모델을 사용하였습니다.\n",
    "    # reshape()에서 -1이 들어간 곳은 가변적으로 바꿉니다. 예를 들어 12개의 원소가 있고 reshape(-1,2)를 하면 열 2개를 맞추기 위해서 행을 6개로 바꿉니다. \n",
    "    prediction = models[0][1].predict(x_test[i].reshape(1,-1))\n",
    "    \n",
    "    print(\"{} 번째 테스트 데이터의 예측 결과: {}, 실제 데이터: {}\".format(i, prediction[0], y_test[i]))"
   ]
  }
 ],
 "metadata": {
  "kernelspec": {
   "display_name": "Python 3.10.5 64-bit",
   "language": "python",
   "name": "python3"
  },
  "language_info": {
   "codemirror_mode": {
    "name": "ipython",
    "version": 3
   },
   "file_extension": ".py",
   "mimetype": "text/x-python",
   "name": "python",
   "nbconvert_exporter": "python",
   "pygments_lexer": "ipython3",
   "version": "3.10.5"
  },
  "orig_nbformat": 4,
  "vscode": {
   "interpreter": {
    "hash": "4a3f49ee87f94e7d24faf733b0037596b33539e767b040d4caeab9a6984df263"
   }
  }
 },
 "nbformat": 4,
 "nbformat_minor": 2
}
